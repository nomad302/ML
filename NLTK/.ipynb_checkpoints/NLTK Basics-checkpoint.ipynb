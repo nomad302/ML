{
 "cells": [
  {
   "cell_type": "markdown",
   "metadata": {},
   "source": [
    "# Basic NLP Pipeline\n",
    " * Data Collection\n",
    " * Tokenization,Stopword,Stemming\n",
    " * Building a common Vocab\n",
    " * Vectorizing the documents\n",
    " * Performing Classification/ Clustering"
   ]
  },
  {
   "cell_type": "markdown",
   "metadata": {},
   "source": [
    "## 1. Data Collection"
   ]
  },
  {
   "cell_type": "code",
   "execution_count": 1,
   "metadata": {},
   "outputs": [],
   "source": [
    "from nltk.corpus import brown"
   ]
  },
  {
   "cell_type": "code",
   "execution_count": 2,
   "metadata": {},
   "outputs": [
    {
     "name": "stdout",
     "output_type": "stream",
     "text": [
      "['adventure', 'belles_lettres', 'editorial', 'fiction', 'government', 'hobbies', 'humor', 'learned', 'lore', 'mystery', 'news', 'religion', 'reviews', 'romance', 'science_fiction']\n"
     ]
    }
   ],
   "source": [
    "print(brown.categories())"
   ]
  },
  {
   "cell_type": "code",
   "execution_count": 3,
   "metadata": {},
   "outputs": [],
   "source": [
    "data = brown.sents(categories='editorial')[:100]"
   ]
  },
  {
   "cell_type": "code",
   "execution_count": 4,
   "metadata": {},
   "outputs": [
    {
     "name": "stdout",
     "output_type": "stream",
     "text": [
      "[['Assembly', 'session', 'brought', 'much', 'good'], ['The', 'General', 'Assembly', ',', 'which', 'adjourns', 'today', ',', 'has', 'performed', 'in', 'an', 'atmosphere', 'of', 'crisis', 'and', 'struggle', 'from', 'the', 'day', 'it', 'convened', '.'], ...]\n"
     ]
    }
   ],
   "source": [
    "print(data)"
   ]
  },
  {
   "cell_type": "code",
   "execution_count": 5,
   "metadata": {},
   "outputs": [
    {
     "name": "stdout",
     "output_type": "stream",
     "text": [
      "100\n"
     ]
    }
   ],
   "source": [
    "print(len(data))"
   ]
  },
  {
   "cell_type": "markdown",
   "metadata": {},
   "source": [
    "## 2.  Tokenization"
   ]
  },
  {
   "cell_type": "code",
   "execution_count": 6,
   "metadata": {},
   "outputs": [
    {
     "name": "stdout",
     "output_type": "stream",
     "text": [
      "It was a very pleasant day, the weather was cool and there were light showers. I went to the market to buy some fruits.\n"
     ]
    }
   ],
   "source": [
    "text = 'It was a very pleasant day, the weather was cool and there were light showers. I went to the market to buy some fruits.'\n",
    "print(text)"
   ]
  },
  {
   "cell_type": "code",
   "execution_count": 7,
   "metadata": {},
   "outputs": [],
   "source": [
    "from nltk.tokenize import sent_tokenize,word_tokenize"
   ]
  },
  {
   "cell_type": "code",
   "execution_count": 8,
   "metadata": {},
   "outputs": [
    {
     "name": "stdout",
     "output_type": "stream",
     "text": [
      "['It was a very pleasant day, the weather was cool and there were light showers.', 'I went to the market to buy some fruits.']\n"
     ]
    }
   ],
   "source": [
    "sents = sent_tokenize(text)\n",
    "print(sents)"
   ]
  },
  {
   "cell_type": "code",
   "execution_count": 9,
   "metadata": {},
   "outputs": [],
   "source": [
    "word_list = word_tokenize(sents[0].lower())"
   ]
  },
  {
   "cell_type": "markdown",
   "metadata": {},
   "source": [
    "### Stopword Removal"
   ]
  },
  {
   "cell_type": "code",
   "execution_count": 10,
   "metadata": {},
   "outputs": [],
   "source": [
    "from nltk.corpus import stopwords"
   ]
  },
  {
   "cell_type": "code",
   "execution_count": 11,
   "metadata": {},
   "outputs": [],
   "source": [
    "sw = set(stopwords.words('english'))"
   ]
  },
  {
   "cell_type": "code",
   "execution_count": 12,
   "metadata": {},
   "outputs": [
    {
     "name": "stdout",
     "output_type": "stream",
     "text": [
      "179\n"
     ]
    }
   ],
   "source": [
    "print(len(sw))"
   ]
  },
  {
   "cell_type": "markdown",
   "metadata": {},
   "source": [
    "### filter the  words from sentenses"
   ]
  },
  {
   "cell_type": "code",
   "execution_count": 13,
   "metadata": {},
   "outputs": [],
   "source": [
    "def filter_words(word_list):\n",
    "    useful_words = [w for w in word_list if w not in sw]\n",
    "    return useful_words"
   ]
  },
  {
   "cell_type": "markdown",
   "metadata": {},
   "source": [
    "### Tokenization using Regular Expression\n",
    "- Problem with word tokenizer - can't handle complex tokenization ! so we use Regexp Tokenizer class in NLTK "
   ]
  },
  {
   "cell_type": "code",
   "execution_count": 14,
   "metadata": {},
   "outputs": [],
   "source": [
    "from nltk.tokenize import RegexpTokenizer"
   ]
  },
  {
   "cell_type": "code",
   "execution_count": 15,
   "metadata": {},
   "outputs": [],
   "source": [
    "tokenizer = RegexpTokenizer(\"[a-zA-Z@]+\")"
   ]
  },
  {
   "cell_type": "code",
   "execution_count": 16,
   "metadata": {},
   "outputs": [
    {
     "name": "stdout",
     "output_type": "stream",
     "text": [
      "['Send', 'all', 'the', 'Documents', 'related', 'to', 'clauses', 'abc@xyz', 'com']\n"
     ]
    }
   ],
   "source": [
    "text = 'Send all the 50 Documents related to clauses 1,2,3 abc@xyz.com'\n",
    "\n",
    "print(tokenizer.tokenize(text))"
   ]
  },
  {
   "cell_type": "markdown",
   "metadata": {},
   "source": [
    "## Stemming"
   ]
  },
  {
   "cell_type": "markdown",
   "metadata": {},
   "source": [
    "- Processs that transforms perticular words(verbs,plurals) into their radical forms\n",
    "- Perserve the semantics of sentence without increasing the number of unique tokens\n",
    "- jumps,jumping,jumped,jump ==> jump"
   ]
  },
  {
   "cell_type": "code",
   "execution_count": 17,
   "metadata": {},
   "outputs": [
    {
     "name": "stdout",
     "output_type": "stream",
     "text": [
      "['foxes', 'love', 'to', 'make', 'jumps', 'the', 'quick', 'brown', 'fox', 'was', 'seen', 'jumping', 'over', 'the', 'lovely', 'dog', 'from', 'a', 'ft', 'feet', 'high', 'wall']\n"
     ]
    }
   ],
   "source": [
    "text = \"\"\"Foxes love to make jumps. The quick brown fox was seen jumping over the lovely dog\n",
    "        from a 6 ft feet high wall\"\"\"\n",
    "\n",
    "words_list = tokenizer.tokenize(text.lower())\n",
    "print(words_list)"
   ]
  },
  {
   "cell_type": "code",
   "execution_count": 18,
   "metadata": {},
   "outputs": [
    {
     "name": "stdout",
     "output_type": "stream",
     "text": [
      "['it', 'was', 'a', 'very', 'pleasant', 'day', ',', 'the', 'weather', 'was', 'cool', 'and', 'there', 'were', 'light', 'showers', '.']\n"
     ]
    }
   ],
   "source": [
    "words_list =  filter_words(words_list)\n",
    "print(word_list)"
   ]
  },
  {
   "cell_type": "markdown",
   "metadata": {},
   "source": [
    "### Stemming -\n",
    "\n",
    "    - Snowball Stemmer\n",
    "    - Porter Stemmer\n",
    "    - Lancaster Stemmer"
   ]
  },
  {
   "cell_type": "code",
   "execution_count": 19,
   "metadata": {},
   "outputs": [],
   "source": [
    "from nltk.stem.snowball import PorterStemmer\n",
    "from nltk.stem.lancaster import LancasterStemmer\n",
    "from nltk.stem.snowball import SnowballStemmer\n",
    "\n",
    "\n",
    "\n",
    "ps = PorterStemmer()"
   ]
  },
  {
   "cell_type": "code",
   "execution_count": 20,
   "metadata": {},
   "outputs": [
    {
     "data": {
      "text/plain": [
       "'jump'"
      ]
     },
     "execution_count": 20,
     "metadata": {},
     "output_type": "execute_result"
    }
   ],
   "source": [
    "ps.stem(\"jumped\")"
   ]
  },
  {
   "cell_type": "code",
   "execution_count": 21,
   "metadata": {},
   "outputs": [
    {
     "data": {
      "text/plain": [
       "'love'"
      ]
     },
     "execution_count": 21,
     "metadata": {},
     "output_type": "execute_result"
    }
   ],
   "source": [
    "ps.stem(\"lovely\")"
   ]
  },
  {
   "cell_type": "code",
   "execution_count": 22,
   "metadata": {},
   "outputs": [
    {
     "data": {
      "text/plain": [
       "'tee'"
      ]
     },
     "execution_count": 22,
     "metadata": {},
     "output_type": "execute_result"
    }
   ],
   "source": [
    "ls = LancasterStemmer()\n",
    "ls.stem(\"teeth\")"
   ]
  },
  {
   "cell_type": "code",
   "execution_count": 23,
   "metadata": {},
   "outputs": [
    {
     "name": "stdout",
     "output_type": "stream",
     "text": [
      "teenag\n",
      "teen\n"
     ]
    }
   ],
   "source": [
    "print(ps.stem(\"teenager\"))\n",
    "print(ls.stem(\"teenager\"))\n",
    "      "
   ]
  },
  {
   "cell_type": "code",
   "execution_count": 24,
   "metadata": {},
   "outputs": [
    {
     "name": "stdout",
     "output_type": "stream",
     "text": [
      "love\n"
     ]
    }
   ],
   "source": [
    "# Snowball Stemmer\n",
    "ss = SnowballStemmer('english')\n",
    "print(ss.stem('lovely'))\n",
    "\n"
   ]
  },
  {
   "cell_type": "markdown",
   "metadata": {},
   "source": [
    "## Building Common Vocabulary and Vectorizing Documents (Based on Bag of words Model)"
   ]
  },
  {
   "cell_type": "code",
   "execution_count": 25,
   "metadata": {},
   "outputs": [],
   "source": [
    "corpus = ['Indian Cricket team will win World Cup,says Capt. Virat Kohli',\n",
    "        'We will Win next Lok Sabha Election,says Confident Indian PM',\n",
    "          'The nobel laurate won the hearts of the people',\n",
    "          'The Movie Raazi is an Exciting Indian Spy thriller based upon a real story'\n",
    "         ]"
   ]
  },
  {
   "cell_type": "code",
   "execution_count": 26,
   "metadata": {},
   "outputs": [],
   "source": [
    "from sklearn.feature_extraction.text import CountVectorizer"
   ]
  },
  {
   "cell_type": "code",
   "execution_count": 27,
   "metadata": {},
   "outputs": [],
   "source": [
    "cv = CountVectorizer()"
   ]
  },
  {
   "cell_type": "code",
   "execution_count": 28,
   "metadata": {},
   "outputs": [],
   "source": [
    "vectorized_corpus = cv.fit_transform(corpus).toarray()"
   ]
  },
  {
   "cell_type": "code",
   "execution_count": 29,
   "metadata": {},
   "outputs": [
    {
     "name": "stdout",
     "output_type": "stream",
     "text": [
      "4\n"
     ]
    }
   ],
   "source": [
    "vectorized_corpus\n",
    "print(len(vectorized_corpus))"
   ]
  },
  {
   "cell_type": "code",
   "execution_count": 30,
   "metadata": {},
   "outputs": [
    {
     "name": "stdout",
     "output_type": "stream",
     "text": [
      "{'exciting': 7, 'we': 31, 'real': 21, 'based': 1, 'upon': 29, 'virat': 30, 'world': 35, 'of': 17, 'movie': 14, 'raazi': 20, 'sabha': 22, 'team': 26, 'is': 10, 'laurate': 12, 'hearts': 8, 'next': 15, 'spy': 24, 'capt': 2, 'indian': 9, 'pm': 19, 'thriller': 28, 'kohli': 11, 'lok': 13, 'will': 32, 'nobel': 16, 'story': 25, 'election': 6, 'the': 27, 'cricket': 4, 'an': 0, 'confident': 3, 'says': 23, 'cup': 5, 'win': 33, 'won': 34, 'people': 18}\n"
     ]
    }
   ],
   "source": [
    "print(cv.vocabulary_)"
   ]
  },
  {
   "cell_type": "code",
   "execution_count": 31,
   "metadata": {},
   "outputs": [
    {
     "name": "stdout",
     "output_type": "stream",
     "text": [
      "[1. 1. 0. 1.]\n"
     ]
    }
   ],
   "source": [
    "# Given a Vector what is the sentence\n",
    "import numpy as np\n",
    "\n",
    "vector = np.ones((4,))\n",
    "vector[2:3] = 0\n",
    "\n",
    "print(vector)"
   ]
  },
  {
   "cell_type": "code",
   "execution_count": 32,
   "metadata": {},
   "outputs": [
    {
     "name": "stdout",
     "output_type": "stream",
     "text": [
      "[array(['an', 'based', 'confident'], dtype='<U9')]\n"
     ]
    }
   ],
   "source": [
    "print(cv.inverse_transform(vector))"
   ]
  },
  {
   "cell_type": "code",
   "execution_count": 35,
   "metadata": {},
   "outputs": [
    {
     "data": {
      "text/plain": [
       "['indian',\n",
       " 'cricket',\n",
       " 'team',\n",
       " 'win',\n",
       " 'world',\n",
       " 'cup',\n",
       " 'says',\n",
       " 'capt',\n",
       " 'virat',\n",
       " 'kohli']"
      ]
     },
     "execution_count": 35,
     "metadata": {},
     "output_type": "execute_result"
    }
   ],
   "source": [
    "### Effectively reduced the size of the vector\n",
    "\n",
    "def myTokenizer(sentence):\n",
    "    words = tokenizer.tokenize(sentence.lower())\n",
    "    return filter_words(words)\n",
    "\n",
    "myTokenizer(corpus[0])"
   ]
  },
  {
   "cell_type": "code",
   "execution_count": 41,
   "metadata": {},
   "outputs": [
    {
     "name": "stdout",
     "output_type": "stream",
     "text": [
      "[0 1 0 1 1 0 0 0 1 1 0 0 0 0 0 0 0 0 0 0 1 0 0 1 0 0 1 1 1]\n",
      "29\n"
     ]
    }
   ],
   "source": [
    "cv = CountVectorizer(tokenizer=myTokenizer)\n",
    "vectorized_corpus = cv.fit_transform(corpus)\n",
    "vc = vectorized_corpus.toarray()\n",
    "print(vc[0])\n",
    "print(len(vc[0]))"
   ]
  },
  {
   "cell_type": "code",
   "execution_count": 42,
   "metadata": {},
   "outputs": [
    {
     "name": "stdout",
     "output_type": "stream",
     "text": [
      "[1 1 0 1 1 0 0 0 1 1 0 0 0 0 0 0 0 0 0 0 1 0 0 1 0 0 1 1 1]\n"
     ]
    },
    {
     "data": {
      "text/plain": [
       "[array(['based', 'capt', 'cricket', 'cup', 'indian', 'kohli', 'says',\n",
       "        'team', 'virat', 'win', 'world'], dtype='<U9')]"
      ]
     },
     "execution_count": 42,
     "metadata": {},
     "output_type": "execute_result"
    }
   ],
   "source": [
    "vc[0][0] = 1\n",
    "v = vc[0]\n",
    "print(vc[0])\n",
    "cv.inverse_transform(v)"
   ]
  },
  {
   "cell_type": "markdown",
   "metadata": {},
   "source": [
    "## Features in Bag of Words Model"
   ]
  },
  {
   "cell_type": "markdown",
   "metadata": {},
   "source": [
    "- Unigrams\n",
    "- Bigrams,Trigrams\n",
    "- N-Grams"
   ]
  },
  {
   "cell_type": "code",
   "execution_count": 44,
   "metadata": {},
   "outputs": [
    {
     "name": "stdout",
     "output_type": "stream",
     "text": [
      "{'win world': 78, 'team win world': 66, 'indian cricket': 24, 'election says confident': 17, 'nobel': 42, 'says capt': 56, 'exciting indian spy': 20, 'win next': 76, 'exciting': 18, 'upon': 70, 'world cup says': 82, 'next lok sabha': 41, 'movie': 36, 'raazi exciting': 48, 'raazi': 47, 'team': 64, 'spy thriller based': 62, 'nobel laurate': 43, 'hearts people': 22, 'capt virat kohli': 5, 'thriller based': 68, 'indian cricket team': 25, 'spy': 60, 'next lok': 40, 'thriller': 67, 'kohli': 29, 'lok': 33, 'lok sabha election': 35, 'says confident indian': 59, 'story': 63, 'confident indian pm': 8, 'virat kohli': 74, 'cricket team': 10, 'cricket': 9, 'win world cup': 79, 'indian spy': 27, 'says capt virat': 57, 'says confident': 58, 'laurate hearts people': 32, 'lok sabha': 34, 'indian pm': 26, 'confident indian': 7, 'election says': 16, 'real': 50, 'sabha election says': 54, 'upon real story': 72, 'win next lok': 77, 'laurate': 30, 'cup says': 13, 'movie raazi': 37, 'virat': 73, 'world': 80, 'spy thriller': 61, 'says': 55, 'real story': 51, 'thriller based upon': 69, 'capt virat': 4, 'cup says capt': 14, 'cup': 12, 'nobel laurate hearts': 44, 'hearts': 21, 'next': 39, 'capt': 3, 'indian': 23, 'win': 75, 'based upon': 1, 'exciting indian': 19, 'sabha election': 53, 'based': 0, 'cricket team win': 11, 'upon real': 71, 'world cup': 81, 'laurate hearts': 31, 'team win': 65, 'movie raazi exciting': 38, 'based upon real': 2, 'confident': 6, 'raazi exciting indian': 49, 'election': 15, 'sabha': 52, 'indian spy thriller': 28, 'pm': 46, 'people': 45}\n"
     ]
    }
   ],
   "source": [
    "cv = CountVectorizer(tokenizer=myTokenizer,ngram_range=(1,3))\n",
    "vectorized_corpus = cv.fit_transform(corpus)\n",
    "vc = vectorized_corpus.toarray()\n",
    "print(cv.vocabulary_)"
   ]
  },
  {
   "cell_type": "markdown",
   "metadata": {},
   "source": [
    "# Tf - Idf Normalisation"
   ]
  },
  {
   "cell_type": "markdown",
   "metadata": {},
   "source": [
    "   * Avoid Feature that occur very often,because they contain very less information\n",
    "   * Information decreases as the number of occurenses increases across different type of documents\n",
    "   * So we define another term - term document- frequency which associates a weight with every term"
   ]
  },
  {
   "cell_type": "code",
   "execution_count": 45,
   "metadata": {},
   "outputs": [],
   "source": [
    "from sklearn.feature_extraction.text import TfidfVectorizer"
   ]
  },
  {
   "cell_type": "code",
   "execution_count": 51,
   "metadata": {},
   "outputs": [
    {
     "name": "stdout",
     "output_type": "stream",
     "text": [
      "[[0.         0.33999849 0.         0.33999849 0.33999849 0.\n",
      "  0.         0.         0.21701663 0.33999849 0.         0.\n",
      "  0.         0.         0.         0.         0.         0.\n",
      "  0.         0.         0.26805872 0.         0.         0.33999849\n",
      "  0.         0.         0.33999849 0.26805872 0.33999849]\n",
      " [0.         0.         0.36153669 0.         0.         0.36153669\n",
      "  0.         0.         0.23076418 0.         0.         0.36153669\n",
      "  0.         0.36153669 0.         0.         0.36153669 0.\n",
      "  0.         0.36153669 0.28503968 0.         0.         0.\n",
      "  0.         0.         0.         0.28503968 0.        ]\n",
      " [0.         0.         0.         0.         0.         0.\n",
      "  0.         0.5        0.         0.         0.5        0.\n",
      "  0.         0.         0.5        0.5        0.         0.\n",
      "  0.         0.         0.         0.         0.         0.\n",
      "  0.         0.         0.         0.         0.        ]\n",
      " [0.32603555 0.         0.         0.         0.         0.\n",
      "  0.32603555 0.         0.20810427 0.         0.         0.\n",
      "  0.32603555 0.         0.         0.         0.         0.32603555\n",
      "  0.32603555 0.         0.         0.32603555 0.32603555 0.\n",
      "  0.32603555 0.32603555 0.         0.         0.        ]]\n"
     ]
    }
   ],
   "source": [
    "tfidf_vectorizer = TfidfVectorizer(tokenizer=myTokenizer,ngram_range=(1,1),norm= 'l2')\n",
    "vectorized_corpus = tfidf_vectorizer.fit_transform(corpus).toarray()\n",
    "print(vectorized_corpus)"
   ]
  },
  {
   "cell_type": "code",
   "execution_count": 50,
   "metadata": {},
   "outputs": [
    {
     "name": "stdout",
     "output_type": "stream",
     "text": [
      "{'team': 23, 'laurate': 10, 'election': 5, 'hearts': 7, 'next': 13, 'spy': 21, 'capt': 1, 'real': 18, 'nobel': 14, 'thriller': 24, 'kohli': 9, 'lok': 11, 'based': 0, 'story': 22, 'exciting': 6, 'indian': 8, 'upon': 25, 'cricket': 3, 'virat': 26, 'world': 28, 'confident': 2, 'raazi': 17, 'says': 20, 'sabha': 19, 'movie': 12, 'win': 27, 'people': 15, 'pm': 16, 'cup': 4}\n"
     ]
    }
   ],
   "source": [
    "print(tfidf_vectorizer.vocabulary_)"
   ]
  },
  {
   "cell_type": "code",
   "execution_count": null,
   "metadata": {},
   "outputs": [],
   "source": []
  }
 ],
 "metadata": {
  "kernelspec": {
   "display_name": "Python 3",
   "language": "python",
   "name": "python3"
  },
  "language_info": {
   "codemirror_mode": {
    "name": "ipython",
    "version": 3
   },
   "file_extension": ".py",
   "mimetype": "text/x-python",
   "name": "python",
   "nbconvert_exporter": "python",
   "pygments_lexer": "ipython3",
   "version": "3.5.2"
  }
 },
 "nbformat": 4,
 "nbformat_minor": 2
}
