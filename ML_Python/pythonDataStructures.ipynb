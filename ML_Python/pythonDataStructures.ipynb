{
 "cells": [
  {
   "cell_type": "markdown",
   "metadata": {},
   "source": [
    "### Dictionary in Python"
   ]
  },
  {
   "cell_type": "code",
   "execution_count": 11,
   "metadata": {},
   "outputs": [
    {
     "name": "stdout",
     "output_type": "stream",
     "text": [
      "<class 'dict'>\n",
      "100\n",
      "[60, 30]\n",
      "{'Large': 150, 'small': 90}\n",
      "dict_values([{'Large': 150, 'small': 90}, 200, [60, 30], 100])\n",
      "dict_keys(['pineapple', 'Gauva', 'grapes', 'mango'])\n"
     ]
    }
   ],
   "source": [
    "d={}\n",
    "print(type(d))\n",
    "d={\"mango\":100,\"Gauva\":200}\n",
    "print(d[\"mango\"])\n",
    "\n",
    "d[\"grapes\"]=[60,30]\n",
    "print(d[\"grapes\"])\n",
    "\n",
    "d[\"pineapple\"]={\"small\":90,\"Large\":150}\n",
    "print(d[\"pineapple\"])\n",
    "\n",
    "print(d.values())\n",
    "\n",
    "print(d.keys())\n"
   ]
  },
  {
   "cell_type": "code",
   "execution_count": 16,
   "metadata": {},
   "outputs": [
    {
     "name": "stdout",
     "output_type": "stream",
     "text": [
      "<class 'NoneType'>\n",
      " price of mango is 100\n"
     ]
    }
   ],
   "source": [
    "print(type(d.get(\"mangoes\")))\n",
    "\n",
    "if \"mango\" in d:\n",
    "    print(\" price of mango is %d\"%(d[\"mango\"]))\n",
    "else:\n",
    "    print(\"doesnt exist\")"
   ]
  },
  {
   "cell_type": "code",
   "execution_count": 18,
   "metadata": {},
   "outputs": [
    {
     "name": "stdout",
     "output_type": "stream",
     "text": [
      "[('pineapple', {'Large': 150, 'small': 90}), ('Gauva', 200), ('grapes', [60, 30]), ('mango', 100)]\n",
      "[('Gauva', 200), ('grapes', [60, 30]), ('mango', 100)]\n"
     ]
    }
   ],
   "source": [
    "l=list(d.items())\n",
    "print(l)\n",
    "del d[\"pineapple\"]\n",
    "l=list(d.items())\n",
    "print(l)"
   ]
  },
  {
   "cell_type": "code",
   "execution_count": 19,
   "metadata": {},
   "outputs": [
    {
     "name": "stdout",
     "output_type": "stream",
     "text": [
      "{'Gauva': 200, 'grapes': [60, 30], 'straberry': 95, 'mango': 100}\n"
     ]
    }
   ],
   "source": [
    "d2={\"straberry\":95}\n",
    "d.update(d2)\n",
    "print(d)"
   ]
  },
  {
   "cell_type": "code",
   "execution_count": 20,
   "metadata": {},
   "outputs": [
    {
     "name": "stdout",
     "output_type": "stream",
     "text": [
      "4\n"
     ]
    }
   ],
   "source": [
    "print(len(d))"
   ]
  },
  {
   "cell_type": "code",
   "execution_count": 21,
   "metadata": {},
   "outputs": [
    {
     "name": "stdout",
     "output_type": "stream",
     "text": [
      "0\n"
     ]
    }
   ],
   "source": [
    "d.clear()\n",
    "print(len(d))"
   ]
  },
  {
   "cell_type": "code",
   "execution_count": 22,
   "metadata": {},
   "outputs": [
    {
     "name": "stdout",
     "output_type": "stream",
     "text": [
      "{'papaya': 200, 'Mango': 400, 'Guava': 300, 'apple': 100}\n"
     ]
    }
   ],
   "source": [
    "l1=[\"apple\",\"papaya\",\"Guava\",\"Mango\"]\n",
    "l2=[100,200,300,400]\n",
    "p=dict(zip(l1,l2))\n",
    "print(p)"
   ]
  },
  {
   "cell_type": "code",
   "execution_count": 25,
   "metadata": {},
   "outputs": [
    {
     "name": "stdout",
     "output_type": "stream",
     "text": [
      "200\n",
      "400\n",
      "300\n",
      "100\n"
     ]
    }
   ],
   "source": [
    "for k in p.values():\n",
    "    print(k)"
   ]
  },
  {
   "cell_type": "markdown",
   "metadata": {},
   "source": [
    "### Tuples In python"
   ]
  },
  {
   "cell_type": "code",
   "execution_count": 27,
   "metadata": {},
   "outputs": [
    {
     "name": "stdout",
     "output_type": "stream",
     "text": [
      "(1, 'sagar', 3.5)\n",
      "1\n"
     ]
    }
   ],
   "source": [
    "t=(1,\"sagar\",3.5)\n",
    "print(t)\n",
    "print(t[0])"
   ]
  },
  {
   "cell_type": "code",
   "execution_count": 29,
   "metadata": {},
   "outputs": [
    {
     "name": "stdout",
     "output_type": "stream",
     "text": [
      "[1, 'sagar', 3.5]\n",
      "[3, 'sagar', 3.5]\n"
     ]
    }
   ],
   "source": [
    "#convert tuple into a list\n",
    "\n",
    "l=list(t)\n",
    "print(l)\n",
    "l[0]=3\n",
    "print(l)"
   ]
  },
  {
   "cell_type": "code",
   "execution_count": 31,
   "metadata": {},
   "outputs": [
    {
     "name": "stdout",
     "output_type": "stream",
     "text": [
      "(3, 'sagar', 3.5, 1, 'sagar', 3.5)\n",
      "(3, 'sagar', 3.5, 3, 'sagar', 3.5, 3, 'sagar', 3.5)\n"
     ]
    }
   ],
   "source": [
    "#concatenation of tuples\n",
    "\n",
    "t2=tuple(l)\n",
    "print(t2+t)\n",
    "t2=t2*3\n",
    "print(t2)"
   ]
  },
  {
   "cell_type": "markdown",
   "metadata": {},
   "source": [
    "### Python sets"
   ]
  },
  {
   "cell_type": "code",
   "execution_count": 33,
   "metadata": {},
   "outputs": [
    {
     "name": "stdout",
     "output_type": "stream",
     "text": [
      "{1, 2, 3, 4, 6, 15}\n"
     ]
    }
   ],
   "source": [
    "s=set([15,1,2,3,4,1,4,6])\n",
    "print(s)"
   ]
  },
  {
   "cell_type": "code",
   "execution_count": 35,
   "metadata": {},
   "outputs": [
    {
     "name": "stdout",
     "output_type": "stream",
     "text": [
      "{1, 2, 11, 5, 6}\n",
      "{1, 2, 5, 6, 11, 50}\n"
     ]
    }
   ],
   "source": [
    "s2={5,6,11,1,2,1}\n",
    "print(s2)\n",
    "s2.add(50)\n",
    "print(s2)"
   ]
  },
  {
   "cell_type": "code",
   "execution_count": 46,
   "metadata": {},
   "outputs": [
    {
     "name": "stdout",
     "output_type": "stream",
     "text": [
      "not\n"
     ]
    }
   ],
   "source": [
    "s.union(s2)\n",
    "\n",
    "if 2 in s:\n",
    "    print(\"present\")\n",
    "else:\n",
    "    print(\"not\")"
   ]
  },
  {
   "cell_type": "code",
   "execution_count": 39,
   "metadata": {},
   "outputs": [
    {
     "data": {
      "text/plain": [
       "{1, 2, 6}"
      ]
     },
     "execution_count": 39,
     "metadata": {},
     "output_type": "execute_result"
    }
   ],
   "source": [
    "s & s2\n",
    "s.intersection(s2)"
   ]
  },
  {
   "cell_type": "code",
   "execution_count": 43,
   "metadata": {},
   "outputs": [
    {
     "data": {
      "text/plain": [
       "{3, 4, 15}"
      ]
     },
     "execution_count": 43,
     "metadata": {},
     "output_type": "execute_result"
    }
   ],
   "source": [
    "s-s2\n",
    "s.difference(s2)"
   ]
  },
  {
   "cell_type": "code",
   "execution_count": 45,
   "metadata": {},
   "outputs": [
    {
     "name": "stdout",
     "output_type": "stream",
     "text": [
      "set()\n"
     ]
    }
   ],
   "source": [
    "s.clear()\n",
    "print(s)"
   ]
  },
  {
   "cell_type": "code",
   "execution_count": 47,
   "metadata": {},
   "outputs": [
    {
     "name": "stdout",
     "output_type": "stream",
     "text": [
      "{1, 5, 6}\n"
     ]
    }
   ],
   "source": [
    "a1={1,2,3,4}\n",
    "a2={2,3,4,5,6}\n",
    "print(a1^a2)"
   ]
  }
 ],
 "metadata": {
  "kernelspec": {
   "display_name": "Python 3",
   "language": "python",
   "name": "python3"
  },
  "language_info": {
   "codemirror_mode": {
    "name": "ipython",
    "version": 3
   },
   "file_extension": ".py",
   "mimetype": "text/x-python",
   "name": "python",
   "nbconvert_exporter": "python",
   "pygments_lexer": "ipython3",
   "version": "3.5.2"
  }
 },
 "nbformat": 4,
 "nbformat_minor": 2
}
