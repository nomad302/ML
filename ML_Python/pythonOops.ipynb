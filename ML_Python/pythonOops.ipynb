{
 "cells": [
  {
   "cell_type": "markdown",
   "metadata": {},
   "source": [
    "### Oops In Python"
   ]
  },
  {
   "cell_type": "markdown",
   "metadata": {},
   "source": [
    "A minimilist python class"
   ]
  },
  {
   "cell_type": "code",
   "execution_count": 1,
   "metadata": {},
   "outputs": [
    {
     "name": "stdout",
     "output_type": "stream",
     "text": [
      "<class '__main__.Person'>\n"
     ]
    }
   ],
   "source": [
    "class Person():\n",
    "    pass\n",
    "\n",
    "p=Person()\n",
    "print(type(p))"
   ]
  },
  {
   "cell_type": "markdown",
   "metadata": {},
   "source": [
    "### Let us define one Person class"
   ]
  },
  {
   "cell_type": "code",
   "execution_count": 7,
   "metadata": {},
   "outputs": [
    {
     "name": "stdout",
     "output_type": "stream",
     "text": [
      "Hello World\n",
      "my name is  Sagar\n",
      "I am from  IdeaLattice\n",
      "I am  Indian\n"
     ]
    }
   ],
   "source": [
    "class Person():\n",
    "    #class variables,common for all object of same class\n",
    "    nationality=\"Indian\"\n",
    "    \n",
    "    def __init__(self,pname,clg):\n",
    "        #instance varibales,these are diffrent  for every instance of class\n",
    "        self.name=pname\n",
    "        self.collage=clg\n",
    "        \n",
    "    \n",
    "    def sayHi(self,name):\n",
    "        print(\"Hello \"+name)\n",
    "        \n",
    "    def introduce(self):\n",
    "        print(\"my name is \",self.name)\n",
    "        print(\"I am from \",self.collage)\n",
    "        print(\"I am \",self.nationality)\n",
    "        \n",
    "        \n",
    "        \n",
    "p=Person(\"Sagar\", \"IdeaLattice\")\n",
    "p.sayHi(\"World\")\n",
    "p.introduce()"
   ]
  },
  {
   "cell_type": "code",
   "execution_count": 8,
   "metadata": {},
   "outputs": [
    {
     "name": "stdout",
     "output_type": "stream",
     "text": [
      "German shepherd\n",
      "['HighJump']\n",
      "Goldem\n",
      "['RollOver']\n"
     ]
    }
   ],
   "source": [
    "class Dog():\n",
    "    \n",
    "    color=\"Brown\"\n",
    "    \n",
    "    def __init__(self,breed):\n",
    "        self.activities=[]\n",
    "        self.breed=breed\n",
    "        \n",
    "    def doActivity(self):\n",
    "        print(self.breed)\n",
    "        print(self.activities)\n",
    "        \n",
    "    def addActivity(self,act):\n",
    "        self.activities.append(act)\n",
    "        \n",
    "        \n",
    "d1=Dog(\"German shepherd\")\n",
    "d2=Dog(\"Goldem\")\n",
    "\n",
    "d1.addActivity(\"HighJump\")\n",
    "d2.addActivity(\"RollOver\")\n",
    "\n",
    "d1.doActivity()\n",
    "d2.doActivity()\n",
    "    "
   ]
  }
 ],
 "metadata": {
  "kernelspec": {
   "display_name": "Python 3",
   "language": "python",
   "name": "python3"
  },
  "language_info": {
   "codemirror_mode": {
    "name": "ipython",
    "version": 3
   },
   "file_extension": ".py",
   "mimetype": "text/x-python",
   "name": "python",
   "nbconvert_exporter": "python",
   "pygments_lexer": "ipython3",
   "version": "3.5.2"
  }
 },
 "nbformat": 4,
 "nbformat_minor": 2
}
