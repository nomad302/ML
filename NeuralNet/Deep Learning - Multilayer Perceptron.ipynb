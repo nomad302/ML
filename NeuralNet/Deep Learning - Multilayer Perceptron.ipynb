{
 "cells": [
  {
   "cell_type": "markdown",
   "metadata": {},
   "source": [
    "# Multilayer Perceptron"
   ]
  },
  {
   "cell_type": "markdown",
   "metadata": {},
   "source": [
    "- Two hidden layers 1 hidden + 1 output\n",
    "- Multilayer perceptron / feed forward net/ deep forward net"
   ]
  },
  {
   "cell_type": "markdown",
   "metadata": {},
   "source": [
    "### Part 1 Implementation"
   ]
  },
  {
   "cell_type": "code",
   "execution_count": 1,
   "metadata": {},
   "outputs": [],
   "source": [
    "import numpy as np"
   ]
  },
  {
   "cell_type": "code",
   "execution_count": 2,
   "metadata": {},
   "outputs": [],
   "source": [
    "# Model paramters\n",
    "\n",
    "input_size = 3 # no of features\n",
    "layers = [4,3] # no of neurons in first and second layer\n",
    "output_size = 2"
   ]
  },
  {
   "cell_type": "code",
   "execution_count": null,
   "metadata": {},
   "outputs": [],
   "source": [
    "class NeuralNetwork:\n",
    "    \n",
    "    def __init__(self,input_size,layers,output_size):\n",
    "        np.random.seed(0)\n",
    "        \n",
    "        model = {} #dictionary\n",
    "        \n",
    "        # First Layer\n",
    "        model['w1'] = np.random.randn(input_size,layers[0])\n",
    "        model['b1'] = np.zeros((1,layers[0]))\n",
    "        \n",
    "        # Second Layer\n",
    "        model['w2'] = np.random.randn(layers[0],layers[1])\n",
    "        model['b2'] = np.zeros((1,layers[1]))\n",
    "        \n",
    "        # Third /output Layer\n",
    "        model['w3'] = np.random.randn(layers[1],output_size)\n",
    "        model['b3'] = np.zeros((1,output_size))\n",
    "        \n",
    "        \n",
    "        self.model = model\n",
    "        \n",
    "        \n",
    "        \n",
    "        "
   ]
  }
 ],
 "metadata": {
  "kernelspec": {
   "display_name": "Python 3",
   "language": "python",
   "name": "python3"
  },
  "language_info": {
   "codemirror_mode": {
    "name": "ipython",
    "version": 3
   },
   "file_extension": ".py",
   "mimetype": "text/x-python",
   "name": "python",
   "nbconvert_exporter": "python",
   "pygments_lexer": "ipython3",
   "version": "3.6.7"
  }
 },
 "nbformat": 4,
 "nbformat_minor": 2
}
