{
 "cells": [
  {
   "cell_type": "markdown",
   "metadata": {},
   "source": [
    "## Building a CNN using Keras "
   ]
  },
  {
   "cell_type": "markdown",
   "metadata": {},
   "source": [
    "### Dataset Fashion MNIST"
   ]
  },
  {
   "cell_type": "code",
   "execution_count": 19,
   "metadata": {},
   "outputs": [],
   "source": [
    "import pandas as pd\n",
    "import numpy as np\n",
    "import matplotlib.pyplot as plt\n",
    "from keras.models import Sequential\n",
    "from keras.layers import Input,Convolution2D,MaxPooling2D,Flatten,Dense,Dropout\n",
    "from keras.utils import np_utils\n",
    "import tensorflow"
   ]
  },
  {
   "cell_type": "markdown",
   "metadata": {},
   "source": [
    "## Data Preperation"
   ]
  },
  {
   "cell_type": "code",
   "execution_count": 6,
   "metadata": {},
   "outputs": [],
   "source": [
    "x = pd.read_csv(\"./Dataset/fashion-mnist.csv\")"
   ]
  },
  {
   "cell_type": "code",
   "execution_count": 8,
   "metadata": {},
   "outputs": [
    {
     "name": "stdout",
     "output_type": "stream",
     "text": [
      "(10000, 784) (10000,)\n"
     ]
    }
   ],
   "source": [
    "X_ = np.array(x)\n",
    "X = X_[:,1:]\n",
    "X = X/255.0\n",
    "y = X_[:,0]\n",
    "\n",
    "print(X.shape,y.shape)"
   ]
  },
  {
   "cell_type": "code",
   "execution_count": 9,
   "metadata": {},
   "outputs": [
    {
     "data": {
      "text/plain": [
       "(array([0, 1, 2, 3, 4, 5, 6, 7, 8, 9]),\n",
       " array([1000, 1000, 1000, 1000, 1000, 1000, 1000, 1000, 1000, 1000]))"
      ]
     },
     "execution_count": 9,
     "metadata": {},
     "output_type": "execute_result"
    }
   ],
   "source": [
    "np.unique(y,return_counts=True) "
   ]
  },
  {
   "cell_type": "code",
   "execution_count": 11,
   "metadata": {},
   "outputs": [
    {
     "name": "stdout",
     "output_type": "stream",
     "text": [
      "(10000, 28, 28, 1) (10000, 10)\n"
     ]
    }
   ],
   "source": [
    "X_Train = X.reshape((-1,28,28,1))\n",
    "Y_Train = np_utils.to_categorical(y)\n",
    "\n",
    "print(X_Train.shape,Y_Train.shape)"
   ]
  },
  {
   "cell_type": "code",
   "execution_count": 17,
   "metadata": {},
   "outputs": [
    {
     "name": "stdout",
     "output_type": "stream",
     "text": [
      "[1. 0. 0. 0. 0. 0. 0. 0. 0. 0.]\n"
     ]
    }
   ],
   "source": [
    "print(Y_Train[0])"
   ]
  },
  {
   "cell_type": "code",
   "execution_count": 22,
   "metadata": {},
   "outputs": [
    {
     "data": {
      "image/png": "[encoded data removed]",
      "text/plain": [
       "<Figure size 432x288 with 1 Axes>"
      ]
     },
     "metadata": {
      "needs_background": "light"
     },
     "output_type": "display_data"
    },
    {
     "data": {
      "image/png": "[encoded data removed]",
      "text/plain": [
       "<Figure size 432x288 with 1 Axes>"
      ]
     },
     "metadata": {
      "needs_background": "light"
     },
     "output_type": "display_data"
    },
    {
     "data": {
      "image/png": "[encoded data removed]",
      "text/plain": [
       "<Figure size 432x288 with 1 Axes>"
      ]
     },
     "metadata": {
      "needs_background": "light"
     },
     "output_type": "display_data"
    },
    {
     "data": {
      "image/png": "[encoded data removed]",
      "text/plain": [
       "<Figure size 432x288 with 1 Axes>"
      ]
     },
     "metadata": {
      "needs_background": "light"
     },
     "output_type": "display_data"
    },
    {
     "data": {
      "image/png": "[encoded data removed]",
      "text/plain": [
       "<Figure size 432x288 with 1 Axes>"
      ]
     },
     "metadata": {
      "needs_background": "light"
     },
     "output_type": "display_data"
    }
   ],
   "source": [
    "for i in range(5):\n",
    "    plt.figure(i)\n",
    "    plt.imshow(X_Train[i].reshape((28,28)),cmap='gray')\n",
    "    plt.show()"
   ]
  },
  {
   "cell_type": "markdown",
   "metadata": {},
   "source": [
    "# CNN Model "
   ]
  },
  {
   "cell_type": "code",
   "execution_count": 23,
   "metadata": {},
   "outputs": [
    {
     "name": "stdout",
     "output_type": "stream",
     "text": [
      "_________________________________________________________________\n",
      "Layer (type)                 Output Shape              Param #   \n",
      "=================================================================\n",
      "conv2d_1 (Conv2D)            (None, 26, 26, 32)        320       \n",
      "_________________________________________________________________\n",
      "conv2d_2 (Conv2D)            (None, 24, 24, 64)        18496     \n",
      "_________________________________________________________________\n",
      "dropout_1 (Dropout)          (None, 24, 24, 64)        0         \n",
      "_________________________________________________________________\n",
      "max_pooling2d_1 (MaxPooling2 (None, 12, 12, 64)        0         \n",
      "_________________________________________________________________\n",
      "conv2d_3 (Conv2D)            (None, 8, 8, 32)          51232     \n",
      "_________________________________________________________________\n",
      "conv2d_4 (Conv2D)            (None, 4, 4, 8)           6408      \n",
      "_________________________________________________________________\n",
      "flatten_1 (Flatten)          (None, 128)               0         \n",
      "_________________________________________________________________\n",
      "dense_1 (Dense)              (None, 10)                1290      \n",
      "=================================================================\n",
      "Total params: 77,746\n",
      "Trainable params: 77,746\n",
      "Non-trainable params: 0\n",
      "_________________________________________________________________\n"
     ]
    }
   ],
   "source": [
    "model = Sequential()\n",
    "model.add(Convolution2D(32,(3,3),activation='relu',input_shape=(28,28,1)))\n",
    "model.add(Convolution2D(64,(3,3),activation='relu'))\n",
    "model.add(Dropout(0.25)) # Randomly drops 25% of Neurons from previous layer\n",
    "model.add(MaxPooling2D(2,2))\n",
    "model.add(Convolution2D(32,(5,5),activation='relu'))\n",
    "model.add(Convolution2D(8,(5,5),activation='relu'))\n",
    "model.add(Flatten())\n",
    "model.add(Dense(10,activation='softmax'))\n",
    "model.summary()\n",
    "          "
   ]
  },
  {
   "cell_type": "code",
   "execution_count": 25,
   "metadata": {},
   "outputs": [],
   "source": [
    "model.compile(loss='categorical_crossentropy',optimizer='adam',metrics=[\"accuracy\"])"
   ]
  },
  {
   "cell_type": "code",
   "execution_count": 26,
   "metadata": {},
   "outputs": [
    {
     "name": "stdout",
     "output_type": "stream",
     "text": [
      "Train on 8000 samples, validate on 2000 samples\n",
      "Epoch 1/20\n",
      "8000/8000 [==============================] - 80s 10ms/step - loss: 1.4909 - acc: 0.4537 - val_loss: 0.8658 - val_acc: 0.6795\n",
      "Epoch 2/20\n",
      "8000/8000 [==============================] - 66s 8ms/step - loss: 0.7452 - acc: 0.7133 - val_loss: 0.7105 - val_acc: 0.7315\n",
      "Epoch 3/20\n",
      "8000/8000 [==============================] - 81s 10ms/step - loss: 0.6527 - acc: 0.7469 - val_loss: 0.6628 - val_acc: 0.7600\n",
      "Epoch 4/20\n",
      "8000/8000 [==============================] - 63s 8ms/step - loss: 0.5861 - acc: 0.7747 - val_loss: 0.5735 - val_acc: 0.7960\n",
      "Epoch 5/20\n",
      "8000/8000 [==============================] - 60s 8ms/step - loss: 0.5443 - acc: 0.7935 - val_loss: 0.5512 - val_acc: 0.8045\n",
      "Epoch 6/20\n",
      "8000/8000 [==============================] - 60s 8ms/step - loss: 0.5068 - acc: 0.8065 - val_loss: 0.5070 - val_acc: 0.8220\n",
      "Epoch 7/20\n",
      "8000/8000 [==============================] - 60s 8ms/step - loss: 0.4679 - acc: 0.8299 - val_loss: 0.4879 - val_acc: 0.8395\n",
      "Epoch 8/20\n",
      "8000/8000 [==============================] - 61s 8ms/step - loss: 0.4581 - acc: 0.8312 - val_loss: 0.4739 - val_acc: 0.8360\n",
      "Epoch 9/20\n",
      "8000/8000 [==============================] - 62s 8ms/step - loss: 0.4251 - acc: 0.8526 - val_loss: 0.4717 - val_acc: 0.8325\n",
      "Epoch 10/20\n",
      "8000/8000 [==============================] - 61s 8ms/step - loss: 0.4131 - acc: 0.8474 - val_loss: 0.4412 - val_acc: 0.8435\n",
      "Epoch 11/20\n",
      "8000/8000 [==============================] - 61s 8ms/step - loss: 0.3883 - acc: 0.8604 - val_loss: 0.4299 - val_acc: 0.8590\n",
      "Epoch 12/20\n",
      "8000/8000 [==============================] - 61s 8ms/step - loss: 0.3712 - acc: 0.8686 - val_loss: 0.4226 - val_acc: 0.8520\n",
      "Epoch 13/20\n",
      "8000/8000 [==============================] - 61s 8ms/step - loss: 0.3524 - acc: 0.8740 - val_loss: 0.4217 - val_acc: 0.8595\n",
      "Epoch 14/20\n",
      "8000/8000 [==============================] - 61s 8ms/step - loss: 0.3331 - acc: 0.8829 - val_loss: 0.4095 - val_acc: 0.8565\n",
      "Epoch 15/20\n",
      "8000/8000 [==============================] - 61s 8ms/step - loss: 0.3261 - acc: 0.8802 - val_loss: 0.4394 - val_acc: 0.8475\n",
      "Epoch 16/20\n",
      "8000/8000 [==============================] - 61s 8ms/step - loss: 0.3202 - acc: 0.8824 - val_loss: 0.3890 - val_acc: 0.8650\n",
      "Epoch 17/20\n",
      "8000/8000 [==============================] - 61s 8ms/step - loss: 0.3003 - acc: 0.8932 - val_loss: 0.3912 - val_acc: 0.8615\n",
      "Epoch 18/20\n",
      "8000/8000 [==============================] - 61s 8ms/step - loss: 0.2911 - acc: 0.8971 - val_loss: 0.3938 - val_acc: 0.8685\n",
      "Epoch 19/20\n",
      "8000/8000 [==============================] - 60s 8ms/step - loss: 0.2875 - acc: 0.8945 - val_loss: 0.3808 - val_acc: 0.8730\n",
      "Epoch 20/20\n",
      "8000/8000 [==============================] - 62s 8ms/step - loss: 0.2731 - acc: 0.9022 - val_loss: 0.3723 - val_acc: 0.8740\n"
     ]
    }
   ],
   "source": [
    "hist = model.fit(X_Train,Y_Train,epochs=20,shuffle=True,batch_size=256,validation_split=0.20)"
   ]
  },
  {
   "cell_type": "code",
   "execution_count": 27,
   "metadata": {},
   "outputs": [
    {
     "data": {
      "image/png": "[encoded data removed]",
      "text/plain": [
       "<Figure size 432x288 with 1 Axes>"
      ]
     },
     "metadata": {
      "needs_background": "light"
     },
     "output_type": "display_data"
    }
   ],
   "source": [
    "plt.figure(0)\n",
    "plt.plot(hist.history['loss'],'g')\n",
    "plt.plot(hist.history['val_loss'],'b')\n",
    "\n",
    "plt.plot(hist.history['acc'],'r')\n",
    "plt.plot(hist.history['val_acc'],'black')\n",
    "plt.show()"
   ]
  },
  {
   "cell_type": "code",
   "execution_count": null,
   "metadata": {},
   "outputs": [],
   "source": []
  }
 ],
 "metadata": {
  "kernelspec": {
   "display_name": "Python 3",
   "language": "python",
   "name": "python3"
  },
  "language_info": {
   "codemirror_mode": {
    "name": "ipython",
    "version": 3
   },
   "file_extension": ".py",
   "mimetype": "text/x-python",
   "name": "python",
   "nbconvert_exporter": "python",
   "pygments_lexer": "ipython3",
   "version": "3.6.7"
  }
 },
 "nbformat": 4,
 "nbformat_minor": 2
}
